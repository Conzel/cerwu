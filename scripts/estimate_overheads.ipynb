{
 "cells": [
  {
   "cell_type": "code",
   "execution_count": 1,
   "id": "272bd24d",
   "metadata": {},
   "outputs": [],
   "source": [
    "from nn_compression.cv import CvModel\n",
    "from nn_compression.nlp import LanguageModel\n",
    "from nn_compression.networks import recursively_find_named_children\n",
    "from nn_compression.quantisation import quantisable\n",
    "from nn_compression.cv import unfold_depthwise_convolutions\n",
    "import torch.nn as nn"
   ]
  },
  {
   "cell_type": "code",
   "execution_count": 2,
   "id": "9b4a2690",
   "metadata": {},
   "outputs": [],
   "source": [
    "net_enum = CvModel.MOBILENETV3_SMALL\n",
    "\n",
    "nparams_dict = {}\n",
    "\n",
    "def calc_overhead(net_enum, half_precision: bool = True):\n",
    "    net = net_enum.load()\n",
    "    vfn = net_enum.filter_fn()\n",
    "    if half_precision:\n",
    "        scale = 16\n",
    "    else:\n",
    "        scale = 32\n",
    "\n",
    "    nquantisable = 0\n",
    "    nparams = 0\n",
    "    for n, l in recursively_find_named_children(net):\n",
    "        if vfn(n) and quantisable(l):\n",
    "            if isinstance(l, nn.Conv2d):\n",
    "                nquantisable += 1  * l.groups\n",
    "            else:\n",
    "                nquantisable += 1\n",
    "            nparams += l.weight.data.numel()\n",
    "\n",
    "    nparams_dict[net_enum.value] = nparams\n",
    "    return (nquantisable * scale) / nparams"
   ]
  },
  {
   "cell_type": "code",
   "execution_count": 3,
   "id": "83269d71",
   "metadata": {},
   "outputs": [
    {
     "name": "stderr",
     "output_type": "stream",
     "text": [
      "/opt/homebrew/Caskroom/miniconda/base/envs/nn-compression/lib/python3.12/site-packages/torchvision/models/_utils.py:135: UserWarning: Using 'weights' as positional parameter(s) is deprecated since 0.13 and may be removed in the future. Please use keyword parameter(s) instead.\n",
      "  warnings.warn(\n",
      "/opt/homebrew/Caskroom/miniconda/base/envs/nn-compression/lib/python3.12/site-packages/huggingface_hub/file_download.py:1132: FutureWarning: `resume_download` is deprecated and will be removed in version 1.0.0. Downloads always resume when possible. If you want to force a new download, use `force_download=True`.\n",
      "  warnings.warn(\n"
     ]
    }
   ],
   "source": [
    "d = {}\n",
    "for n in CvModel:\n",
    "    try:\n",
    "        d[n.value] = calc_overhead(n)\n",
    "    except: \n",
    "        continue\n",
    "        d[n.value] = calc_overhead(n)\n",
    "d[LanguageModel.PYTHIA_70M.value] = calc_overhead(LanguageModel.PYTHIA_70M)\n"
   ]
  },
  {
   "cell_type": "code",
   "execution_count": 4,
   "id": "60ff14eb",
   "metadata": {},
   "outputs": [
    {
     "data": {
      "text/plain": [
       "{'resnet18_cifar10': 2.8675808514421065e-05,\n",
       " 'resnet34_cifar10': 2.7093173423403083e-05,\n",
       " 'resnet50_cifar10': 3.616631592164056e-05,\n",
       " 'resnet18_imagenet': 2.8656086839405558e-05,\n",
       " 'resnet34_imagenet': 2.7083389757061994e-05,\n",
       " 'resnet50_imagenet': 3.6154473740937504e-05,\n",
       " 'resnet101_imagenet': 3.92500818968055e-05,\n",
       " 'resnet152_imagenet': 4.2764236076240634e-05,\n",
       " 'mobilenetv3_large': 0.0148662550685418,\n",
       " 'mobilenetv3_small': 0.01583003145102287,\n",
       " 'vgg16': 1.8504580114885686e-06,\n",
       " 'convnext_tiny': 0.003738606086102931,\n",
       " 'pythia-70m': 2.0345052083333332e-05}"
      ]
     },
     "execution_count": 4,
     "metadata": {},
     "output_type": "execute_result"
    }
   ],
   "source": [
    "d"
   ]
  },
  {
   "cell_type": "code",
   "execution_count": null,
   "id": "d0059898",
   "metadata": {},
   "outputs": [],
   "source": []
  }
 ],
 "metadata": {
  "kernelspec": {
   "display_name": "nn-compression",
   "language": "python",
   "name": "python3"
  },
  "language_info": {
   "codemirror_mode": {
    "name": "ipython",
    "version": 3
   },
   "file_extension": ".py",
   "mimetype": "text/x-python",
   "name": "python",
   "nbconvert_exporter": "python",
   "pygments_lexer": "ipython3",
   "version": "3.12.1"
  }
 },
 "nbformat": 4,
 "nbformat_minor": 5
}
